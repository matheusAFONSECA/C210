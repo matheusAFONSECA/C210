{
 "cells": [
  {
   "cell_type": "markdown",
   "metadata": {},
   "source": [
    "#### Desafio\n",
    "\n",
    "Queremos resolver um problema de maximização em relação a seguinte função:\n",
    "\n",
    "$  f(x, y) = −(x^2 + y^2) + 3x + 4y $\n",
    "\n",
    "<img src=\"images/funcMax.png\">\n",
    "\n",
    "\n",
    "Trata-se de um problema de Maximização em que seus pontos ótimos estão em X = 3/2 e Y = -2\n",
    "\n",
    "Domínio: {-10 <= x <= 10}, {-10 <= y <= 10}"
   ]
  },
  {
   "cell_type": "code",
   "execution_count": null,
   "metadata": {},
   "outputs": [],
   "source": []
  }
 ],
 "metadata": {
  "language_info": {
   "name": "python"
  }
 },
 "nbformat": 4,
 "nbformat_minor": 2
}
