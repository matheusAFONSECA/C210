{
 "cells": [
  {
   "cell_type": "markdown",
   "metadata": {},
   "source": [
    "#### Atividade Fuzzy\n",
    "\n",
    "Imagine que um fazendeiro planeja contratar um técnico para que ele automatize o sistema de irrigação de sua fazenda.\n",
    "\n",
    "<br>\n",
    "<img src='images/fazenda.jpg' width= 500px>\n",
    "\n",
    "Este técnico planeja utilizar sistemas fuzzy para isso.\n",
    "\n",
    "Para isso é importante levar em consideração 2 fatores para a construção desse modelo, a **umidade do solo** e a **temperatura do ar**.\n",
    "Com isso, será possível usar um sistema fuzzy para saber a **duração da irrigação.**\n"
   ]
  },
  {
   "cell_type": "markdown",
   "metadata": {},
   "source": [
    "#### Conjunto de regras\n",
    "\n",
    "O técnico montou um conjunto de regras para fazer a inferência de seu sistema:\n",
    "\n",
    "    Se a umidade do solo é baixa e a temperatura do ar é baixa, então a duração da irrigação deve ser média.\n",
    "\n",
    "    Se a umidade do solo é baixa e a temperatura do ar é média, então a duração da irrigação deve ser longa.\n",
    "\n",
    "    Se a umidade do solo é baixa e a temperatura do ar é alta, então a duração da irrigação deve ser longa.\n",
    "\n",
    "    Se a umidade do solo é média e a temperatura do ar é baixa, então a duração da irrigação deve ser curta.\n",
    "\n",
    "    Se a umidade do solo é média e a temperatura do ar é média, então a duração da irrigação deve ser média.\n",
    "\n",
    "    Se a umidade do solo é média e a temperatura do ar é alta, então a duração da irrigação deve ser longa.\n",
    "\n",
    "    Se a umidade do solo é alta e a temperatura do ar é baixa, então a duração da irrigação deve ser curta.\n",
    "\n",
    "    Se a umidade do solo é alta e a temperatura do ar é média, então a duração da irrigação deve ser curta.\n",
    "\n",
    "    Se a umidade do solo é alta e a temperatura do ar é alta, então a duração da irrigação deve ser média."
   ]
  },
  {
   "cell_type": "markdown",
   "metadata": {},
   "source": [
    "#### Funções de Pertinência\n",
    "\n",
    "##### Antecedentes\n",
    "\n",
    "<img src='images/umidade.png' width= 300px>\n",
    "<img src='images/temperatura.png'width= 300px>\n",
    "\n",
    "##### Consequentes\n",
    "\n",
    "<img src='images/duracao.png' width= 300px>"
   ]
  },
  {
   "cell_type": "markdown",
   "metadata": {},
   "source": [
    "##### Construa o sistema que o técnico imaginou"
   ]
  },
  {
   "cell_type": "markdown",
   "metadata": {},
   "source": [
    "#### Criando antescedentes (entrada/input)"
   ]
  },
  {
   "cell_type": "code",
   "execution_count": null,
   "metadata": {},
   "outputs": [],
   "source": []
  },
  {
   "cell_type": "markdown",
   "metadata": {},
   "source": [
    "#### Criando consequent (saída/output)"
   ]
  },
  {
   "cell_type": "code",
   "execution_count": null,
   "metadata": {},
   "outputs": [],
   "source": []
  },
  {
   "cell_type": "markdown",
   "metadata": {},
   "source": [
    "#### Criando regras"
   ]
  },
  {
   "cell_type": "code",
   "execution_count": null,
   "metadata": {},
   "outputs": [],
   "source": []
  },
  {
   "cell_type": "markdown",
   "metadata": {},
   "source": [
    "#### Criando sistema"
   ]
  },
  {
   "cell_type": "code",
   "execution_count": null,
   "metadata": {},
   "outputs": [],
   "source": []
  }
 ],
 "metadata": {
  "language_info": {
   "name": "python"
  }
 },
 "nbformat": 4,
 "nbformat_minor": 2
}
