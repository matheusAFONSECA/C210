{
 "cells": [
  {
   "cell_type": "markdown",
   "metadata": {},
   "source": [
    "# Exercícios de Desafio"
   ]
  },
  {
   "cell_type": "markdown",
   "metadata": {},
   "source": [
    "# Questão 1\n",
    "\n",
    "Crie uma função capaz de calcular a média das colunas da seguinte matriz:\n",
    "\n",
    "    matriz = [[1, 2, 3],\n",
    "              [4, 5, 6],\n",
    "              [7, 8, 9]]\n",
    "\n",
    "A saída deve mostrar as médias [4.0, 5.0, 6.0]\n",
    "\n",
    "Dica: Coloque a saída em uma lista se for fazer Hard-coded. Se for usar Numpy, use np.mean para calcular a média.\n"
   ]
  },
  {
   "cell_type": "code",
   "execution_count": 2,
   "metadata": {},
   "outputs": [
    {
     "name": "stdout",
     "output_type": "stream",
     "text": [
      "[4.0, 5.0, 6.0]\n"
     ]
    }
   ],
   "source": [
    "def media_colunas(matriz):\n",
    "    num_colunas = len(matriz[0])\n",
    "    num_linhas = len(matriz)\n",
    "    medias = []\n",
    "\n",
    "    for j in range(num_colunas):\n",
    "        soma_coluna = 0\n",
    "        for i in range(num_linhas):\n",
    "            soma_coluna += matriz[i][j]\n",
    "        media_coluna = soma_coluna / num_linhas\n",
    "        medias.append(media_coluna)\n",
    "\n",
    "    return medias\n",
    "\n",
    "# Exemplo de uso\n",
    "matriz = [[1, 2, 3],\n",
    "          [4, 5, 6],\n",
    "          [7, 8, 9]]\n",
    "\n",
    "print(media_colunas(matriz))\n"
   ]
  },
  {
   "cell_type": "code",
   "execution_count": 5,
   "metadata": {},
   "outputs": [
    {
     "name": "stdout",
     "output_type": "stream",
     "text": [
      "[4. 5. 6.]\n"
     ]
    }
   ],
   "source": [
    "import numpy as np\n",
    "\n",
    "def media_colunas(matriz):\n",
    "    return np.mean(matriz, axis=0)\n",
    "\n",
    "\n",
    "print(media_colunas(matriz))\n"
   ]
  },
  {
   "cell_type": "markdown",
   "metadata": {},
   "source": [
    "# Questão 2\n",
    "\n",
    "Crie uma função capaz de calcular as médias das notas de um aluno e depois inserí-las em uma lista.\n",
    "\n",
    "    notas = [[60, 65, 70],\n",
    "            [70, 80, 90],\n",
    "            [55, 60, 65]]\n",
    "\n",
    "As linhas da lista \"notas\" são cada disciplina feita pelo aluno.\n",
    "\n",
    "Dica: Se for fazer Hard-coded (Sem usar numpy), Utilize o método append() para adicionar elementos à lista,\n",
    "Use a função sum() para calcular a soma das notas e a função len() para obter o número de notas inseridas.\n"
   ]
  },
  {
   "cell_type": "code",
   "execution_count": 1,
   "metadata": {},
   "outputs": [
    {
     "name": "stdout",
     "output_type": "stream",
     "text": [
      "[65.0, 80.0, 60.0]\n"
     ]
    }
   ],
   "source": [
    "notas = [[60, 65, 70], [70, 80, 90], [55, 60, 65]]\n",
    "\n",
    "def media_notas(notas):\n",
    "    medias = []\n",
    "    for nota in notas:\n",
    "        sum_nota = sum(nota)  # Calcula a soma dos elementos na lista nota\n",
    "        num_notas = len(nota)  # Obtém o número de notas na lista nota\n",
    "        med = sum_nota / num_notas\n",
    "        medias.append(med)\n",
    "\n",
    "    return medias\n",
    "\n",
    "print(media_notas(notas))\n"
   ]
  }
 ],
 "metadata": {
  "kernelspec": {
   "display_name": "Python 3",
   "language": "python",
   "name": "python3"
  },
  "language_info": {
   "codemirror_mode": {
    "name": "ipython",
    "version": 3
   },
   "file_extension": ".py",
   "mimetype": "text/x-python",
   "name": "python",
   "nbconvert_exporter": "python",
   "pygments_lexer": "ipython3",
   "version": "3.11.2"
  }
 },
 "nbformat": 4,
 "nbformat_minor": 2
}
