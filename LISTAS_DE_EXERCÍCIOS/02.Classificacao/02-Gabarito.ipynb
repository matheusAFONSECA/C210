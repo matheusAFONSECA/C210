{
 "cells": [
  {
   "cell_type": "markdown",
   "metadata": {},
   "source": [
    "# Import"
   ]
  },
  {
   "cell_type": "markdown",
   "metadata": {},
   "source": [
    "## Setup"
   ]
  },
  {
   "cell_type": "code",
   "execution_count": 195,
   "metadata": {},
   "outputs": [],
   "source": [
    "import pandas as pd\n",
    "import numpy as np\n",
    "import matplotlib.pyplot as plt\n",
    "import seaborn as sns\n",
    "\n",
    "from IPython.display import display, Markdown\n",
    "\n",
    "sns.set_theme(style=\"darkgrid\")\n",
    "pd.set_option('display.max_columns', None)  \n",
    "\n",
    "import sys, os, yaml\n",
    "\n",
    "DATASET = \"Apple-Quality\"\n",
    "COLAB = 'google.colab' in sys.modules\n",
    "\n",
    "DEBUG = False\n",
    "SEED = 666"
   ]
  },
  {
   "cell_type": "code",
   "execution_count": 196,
   "metadata": {},
   "outputs": [],
   "source": [
    "COLAB = 'google.colab' in sys.modules\n",
    "\n",
    "if COLAB:\n",
    "  from google.colab import drive\n",
    "  if not os.path.isdir(\"/content/gdrive\"):\n",
    "    drive.mount(\"/content/gdrive\")\n",
    "    d = \"/content/gdrive/MyDrive/datasets\"\n",
    "    if not os.path.isdir(ROOT+d): os.makedirs(ROOT+d)\n",
    "  ROOT = f\"/content/gdrive/MyDrive/datasets/{DATASET.replace(' ','_')}/\"\n",
    "  if not os.path.isdir(ROOT): os.makedirs(ROOT)\n",
    "else:\n",
    "  ROOT = \"./\"\n",
    "\n",
    "def makedirs(d):\n",
    "  if COLAB:\n",
    "    if not os.path.isdir(ROOT+d): os.makedirs(ROOT+d)\n",
    "  else:\n",
    "    if not os.path.isdir(ROOT+d): os.makedirs(ROOT+d, mode=0o777, exist_ok=True)\n",
    "\n",
    "for d in ['orig','data','output']: makedirs(d)"
   ]
  },
  {
   "cell_type": "markdown",
   "metadata": {},
   "source": [
    "## Load Dataset"
   ]
  },
  {
   "cell_type": "code",
   "execution_count": 197,
   "metadata": {},
   "outputs": [],
   "source": [
    "df = pd.read_pickle(f\"{ROOT}/data/apple.pickle\")"
   ]
  },
  {
   "cell_type": "code",
   "execution_count": 198,
   "metadata": {},
   "outputs": [
    {
     "name": "stdout",
     "output_type": "stream",
     "text": [
      "(4000, 8)\n"
     ]
    },
    {
     "data": {
      "text/html": [
       "<div>\n",
       "<style scoped>\n",
       "    .dataframe tbody tr th:only-of-type {\n",
       "        vertical-align: middle;\n",
       "    }\n",
       "\n",
       "    .dataframe tbody tr th {\n",
       "        vertical-align: top;\n",
       "    }\n",
       "\n",
       "    .dataframe thead th {\n",
       "        text-align: right;\n",
       "    }\n",
       "</style>\n",
       "<table border=\"1\" class=\"dataframe\">\n",
       "  <thead>\n",
       "    <tr style=\"text-align: right;\">\n",
       "      <th></th>\n",
       "      <th>Size</th>\n",
       "      <th>Weight</th>\n",
       "      <th>Sweetness</th>\n",
       "      <th>Crunchiness</th>\n",
       "      <th>Juiciness</th>\n",
       "      <th>Ripeness</th>\n",
       "      <th>Acidity</th>\n",
       "      <th>Target</th>\n",
       "    </tr>\n",
       "  </thead>\n",
       "  <tbody>\n",
       "    <tr>\n",
       "      <th>0</th>\n",
       "      <td>-1.798424</td>\n",
       "      <td>-0.950373</td>\n",
       "      <td>2.993421</td>\n",
       "      <td>-1.424150</td>\n",
       "      <td>0.690545</td>\n",
       "      <td>-0.089872</td>\n",
       "      <td>-0.269415</td>\n",
       "      <td>0</td>\n",
       "    </tr>\n",
       "    <tr>\n",
       "      <th>1</th>\n",
       "      <td>-0.359060</td>\n",
       "      <td>-1.154404</td>\n",
       "      <td>2.127698</td>\n",
       "      <td>0.429746</td>\n",
       "      <td>0.176767</td>\n",
       "      <td>0.197020</td>\n",
       "      <td>-0.378997</td>\n",
       "      <td>0</td>\n",
       "    </tr>\n",
       "    <tr>\n",
       "      <th>2</th>\n",
       "      <td>0.109445</td>\n",
       "      <td>-0.225759</td>\n",
       "      <td>-0.652507</td>\n",
       "      <td>-0.946892</td>\n",
       "      <td>1.205422</td>\n",
       "      <td>-0.286156</td>\n",
       "      <td>1.206044</td>\n",
       "      <td>1</td>\n",
       "    </tr>\n",
       "    <tr>\n",
       "      <th>3</th>\n",
       "      <td>-0.079977</td>\n",
       "      <td>-0.800146</td>\n",
       "      <td>0.923916</td>\n",
       "      <td>-0.772399</td>\n",
       "      <td>1.619575</td>\n",
       "      <td>-2.087320</td>\n",
       "      <td>0.338315</td>\n",
       "      <td>0</td>\n",
       "    </tr>\n",
       "    <tr>\n",
       "      <th>4</th>\n",
       "      <td>0.968573</td>\n",
       "      <td>-0.191640</td>\n",
       "      <td>0.044164</td>\n",
       "      <td>-1.096894</td>\n",
       "      <td>1.305025</td>\n",
       "      <td>-0.961548</td>\n",
       "      <td>0.201472</td>\n",
       "      <td>0</td>\n",
       "    </tr>\n",
       "  </tbody>\n",
       "</table>\n",
       "</div>"
      ],
      "text/plain": [
       "       Size    Weight  Sweetness  Crunchiness  Juiciness  Ripeness   Acidity  \\\n",
       "0 -1.798424 -0.950373   2.993421    -1.424150   0.690545 -0.089872 -0.269415   \n",
       "1 -0.359060 -1.154404   2.127698     0.429746   0.176767  0.197020 -0.378997   \n",
       "2  0.109445 -0.225759  -0.652507    -0.946892   1.205422 -0.286156  1.206044   \n",
       "3 -0.079977 -0.800146   0.923916    -0.772399   1.619575 -2.087320  0.338315   \n",
       "4  0.968573 -0.191640   0.044164    -1.096894   1.305025 -0.961548  0.201472   \n",
       "\n",
       "   Target  \n",
       "0       0  \n",
       "1       0  \n",
       "2       1  \n",
       "3       0  \n",
       "4       0  "
      ]
     },
     "execution_count": 198,
     "metadata": {},
     "output_type": "execute_result"
    }
   ],
   "source": [
    "print(df.shape)\n",
    "df.head()"
   ]
  },
  {
   "cell_type": "markdown",
   "metadata": {},
   "source": [
    "# Baseline Model"
   ]
  },
  {
   "cell_type": "code",
   "execution_count": 199,
   "metadata": {},
   "outputs": [],
   "source": [
    "from sklearn.ensemble import RandomForestClassifier\n",
    "from sklearn.svm import SVC\n",
    "from lightgbm import LGBMClassifier\n",
    "from xgboost import XGBClassifier\n",
    "from sklearn.neighbors import KNeighborsClassifier\n",
    "from sklearn.metrics import accuracy_score, confusion_matrix, classification_report\n",
    "from sklearn.metrics import roc_curve, auc"
   ]
  },
  {
   "cell_type": "markdown",
   "metadata": {},
   "source": [
    "## Split"
   ]
  },
  {
   "cell_type": "code",
   "execution_count": 200,
   "metadata": {},
   "outputs": [
    {
     "data": {
      "text/html": [
       "<div>\n",
       "<style scoped>\n",
       "    .dataframe tbody tr th:only-of-type {\n",
       "        vertical-align: middle;\n",
       "    }\n",
       "\n",
       "    .dataframe tbody tr th {\n",
       "        vertical-align: top;\n",
       "    }\n",
       "\n",
       "    .dataframe thead th {\n",
       "        text-align: right;\n",
       "    }\n",
       "</style>\n",
       "<table border=\"1\" class=\"dataframe\">\n",
       "  <thead>\n",
       "    <tr style=\"text-align: right;\">\n",
       "      <th></th>\n",
       "      <th>Size</th>\n",
       "      <th>Weight</th>\n",
       "      <th>Sweetness</th>\n",
       "      <th>Crunchiness</th>\n",
       "      <th>Juiciness</th>\n",
       "      <th>Ripeness</th>\n",
       "      <th>Acidity</th>\n",
       "    </tr>\n",
       "  </thead>\n",
       "  <tbody>\n",
       "    <tr>\n",
       "      <th>0</th>\n",
       "      <td>-1.798424</td>\n",
       "      <td>-0.950373</td>\n",
       "      <td>2.993421</td>\n",
       "      <td>-1.424150</td>\n",
       "      <td>0.690545</td>\n",
       "      <td>-0.089872</td>\n",
       "      <td>-0.269415</td>\n",
       "    </tr>\n",
       "    <tr>\n",
       "      <th>1</th>\n",
       "      <td>-0.359060</td>\n",
       "      <td>-1.154404</td>\n",
       "      <td>2.127698</td>\n",
       "      <td>0.429746</td>\n",
       "      <td>0.176767</td>\n",
       "      <td>0.197020</td>\n",
       "      <td>-0.378997</td>\n",
       "    </tr>\n",
       "    <tr>\n",
       "      <th>2</th>\n",
       "      <td>0.109445</td>\n",
       "      <td>-0.225759</td>\n",
       "      <td>-0.652507</td>\n",
       "      <td>-0.946892</td>\n",
       "      <td>1.205422</td>\n",
       "      <td>-0.286156</td>\n",
       "      <td>1.206044</td>\n",
       "    </tr>\n",
       "    <tr>\n",
       "      <th>3</th>\n",
       "      <td>-0.079977</td>\n",
       "      <td>-0.800146</td>\n",
       "      <td>0.923916</td>\n",
       "      <td>-0.772399</td>\n",
       "      <td>1.619575</td>\n",
       "      <td>-2.087320</td>\n",
       "      <td>0.338315</td>\n",
       "    </tr>\n",
       "    <tr>\n",
       "      <th>4</th>\n",
       "      <td>0.968573</td>\n",
       "      <td>-0.191640</td>\n",
       "      <td>0.044164</td>\n",
       "      <td>-1.096894</td>\n",
       "      <td>1.305025</td>\n",
       "      <td>-0.961548</td>\n",
       "      <td>0.201472</td>\n",
       "    </tr>\n",
       "  </tbody>\n",
       "</table>\n",
       "</div>"
      ],
      "text/plain": [
       "       Size    Weight  Sweetness  Crunchiness  Juiciness  Ripeness   Acidity\n",
       "0 -1.798424 -0.950373   2.993421    -1.424150   0.690545 -0.089872 -0.269415\n",
       "1 -0.359060 -1.154404   2.127698     0.429746   0.176767  0.197020 -0.378997\n",
       "2  0.109445 -0.225759  -0.652507    -0.946892   1.205422 -0.286156  1.206044\n",
       "3 -0.079977 -0.800146   0.923916    -0.772399   1.619575 -2.087320  0.338315\n",
       "4  0.968573 -0.191640   0.044164    -1.096894   1.305025 -0.961548  0.201472"
      ]
     },
     "execution_count": 200,
     "metadata": {},
     "output_type": "execute_result"
    }
   ],
   "source": [
    "X = df.drop('Target', axis=True)\n",
    "X.head()"
   ]
  },
  {
   "cell_type": "code",
   "execution_count": 201,
   "metadata": {},
   "outputs": [
    {
     "data": {
      "text/plain": [
       "0    0\n",
       "1    0\n",
       "2    1\n",
       "3    0\n",
       "4    0\n",
       "Name: Target, dtype: int64"
      ]
     },
     "execution_count": 201,
     "metadata": {},
     "output_type": "execute_result"
    }
   ],
   "source": [
    "y = df.Target\n",
    "y.head()"
   ]
  },
  {
   "cell_type": "code",
   "execution_count": 202,
   "metadata": {},
   "outputs": [],
   "source": [
    "from sklearn.model_selection import train_test_split \n",
    "\n",
    "X_train, X_test, y_train, y_test = train_test_split(X, y, test_size=0.2, random_state=SEED)\n",
    "\n"
   ]
  },
  {
   "cell_type": "markdown",
   "metadata": {},
   "source": [
    "## Train"
   ]
  },
  {
   "cell_type": "code",
   "execution_count": 203,
   "metadata": {},
   "outputs": [],
   "source": [
    "classifiers = {\n",
    "    \"KNN\" : KNeighborsClassifier(),\n",
    "    \"KNN(3)\" : KNeighborsClassifier(3),\n",
    "    \"SVC\" : SVC(),\n",
    "    \"LGBM\" : LGBMClassifier(),\n",
    "    \"RF\" : RandomForestClassifier(),\n",
    "    \"RF(n_est = 300)\" : RandomForestClassifier(n_estimators=300),\n",
    "    \"XGB\": XGBClassifier(),\n",
    "}"
   ]
  },
  {
   "cell_type": "markdown",
   "metadata": {},
   "source": [
    "## Test"
   ]
  },
  {
   "cell_type": "code",
   "execution_count": 204,
   "metadata": {},
   "outputs": [
    {
     "name": "stdout",
     "output_type": "stream",
     "text": [
      "KNN                  accuracy\ttrain = 92.81% \ttest = 91.50%\n",
      "KNN(3)               accuracy\ttrain = 94.03% \ttest = 89.75%\n"
     ]
    },
    {
     "name": "stdout",
     "output_type": "stream",
     "text": [
      "SVC                  accuracy\ttrain = 90.22% \ttest = 90.25%\n",
      "[LightGBM] [Info] Number of positive: 1586, number of negative: 1614\n",
      "[LightGBM] [Info] Auto-choosing col-wise multi-threading, the overhead of testing was 0.000197 seconds.\n",
      "You can set `force_col_wise=true` to remove the overhead.\n",
      "[LightGBM] [Info] Total Bins 1785\n",
      "[LightGBM] [Info] Number of data points in the train set: 3200, number of used features: 7\n",
      "[LightGBM] [Info] [binary:BoostFromScore]: pavg=0.495625 -> initscore=-0.017500\n",
      "[LightGBM] [Info] Start training from score -0.017500\n",
      "LGBM                 accuracy\ttrain = 99.12% \ttest = 89.62%\n",
      "RF                   accuracy\ttrain = 100.00% \ttest = 90.50%\n",
      "RF(n_est = 300)      accuracy\ttrain = 100.00% \ttest = 92.25%\n",
      "XGB                  accuracy\ttrain = 100.00% \ttest = 90.75%\n"
     ]
    }
   ],
   "source": [
    "from sklearn.metrics import accuracy_score\n",
    "from sklearn.preprocessing import StandardScaler\n",
    "\n",
    "for name, model in classifiers.items():\n",
    "    \n",
    "    model.fit(X_train, y_train)\n",
    "    \n",
    "    # Scoring on SEEN data - effectively \"useless\"\n",
    "    y_pred = model.predict(X_train)\n",
    "    train_accuracy = accuracy_score(y_train, y_pred)\n",
    "    \n",
    "    # Scoring on UNSEEN data - important\n",
    "    y_pred = model.predict(X_test)\n",
    "    test_accuracy = accuracy_score(y_test, y_pred)\n",
    "    \n",
    "    print(f\"{name:20s} accuracy\\ttrain = {train_accuracy:.2%} \\ttest = {test_accuracy:.2%}\")"
   ]
  },
  {
   "cell_type": "markdown",
   "metadata": {},
   "source": [
    "## Resultados"
   ]
  },
  {
   "cell_type": "markdown",
   "metadata": {},
   "source": [
    "Foi obtido bons resultados (>0.9) já na primeira abordagem. Isso indica que o dataset está bem equilibrado e parametrizado. Para uma possível melhora nos resultados será necessário uma manipulação nos Hyperparamters e Avaliação das Features mais significantes.\n",
    "\n",
    "https://www.kaggle.com/code/alkidiarete/apple-quality-roc-0-97"
   ]
  },
  {
   "cell_type": "markdown",
   "metadata": {},
   "source": [
    "# Questões"
   ]
  },
  {
   "cell_type": "markdown",
   "metadata": {},
   "source": [
    "**Pergunta:** Qual é a diferença entre dados de treinamento e dados de teste ao treinar um modelo de classificação?\n"
   ]
  },
  {
   "cell_type": "markdown",
   "metadata": {},
   "source": [
    "Dados de treinamento são usados para treinar o modelo, enquanto dados de teste são usados para avaliar sua performance e capacidade de generalização para novos dados."
   ]
  },
  {
   "cell_type": "markdown",
   "metadata": {},
   "source": [
    "**Pergunta:** Com base no dataset fornecido, a abordagem do treinamento do modelo deve ser `supervisionada` ou `não-supervisionada`? Por quê?\n"
   ]
  },
  {
   "cell_type": "markdown",
   "metadata": {},
   "source": [
    "Deve ser supervisionada porque o conjunto de dados fornecido está rotulado, o que significa que já há o \"gabarito\"  associados às entradas."
   ]
  }
 ],
 "metadata": {
  "kernelspec": {
   "display_name": "Python 3",
   "language": "python",
   "name": "python3"
  },
  "language_info": {
   "codemirror_mode": {
    "name": "ipython",
    "version": 3
   },
   "file_extension": ".py",
   "mimetype": "text/x-python",
   "name": "python",
   "nbconvert_exporter": "python",
   "pygments_lexer": "ipython3",
   "version": "3.11.4"
  }
 },
 "nbformat": 4,
 "nbformat_minor": 2
}
