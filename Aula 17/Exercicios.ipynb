{
 "cells": [
  {
   "cell_type": "markdown",
   "metadata": {},
   "source": [
    "#### Exercícios De classificação usando MLP\n",
    "\n",
    "<img src='images/MLP.PNG'>\n"
   ]
  },
  {
   "cell_type": "code",
   "execution_count": null,
   "metadata": {},
   "outputs": [],
   "source": [
    "import numpy as np\n",
    "import pandas as pd\n",
    "import matplotlib.pyplot as plt\n",
    "import math\n",
    "\n",
    "class MLP():\n",
    "    \n",
    "    def __init__(self, lr, e, neurons):\n",
    "        \"\"\" Construtor \"\"\"\n",
    "        # Taxa de aprendizado \n",
    "        self.lr = lr\n",
    "        \n",
    "        # tolerância\n",
    "        self.e = e\n",
    "        \n",
    "        # Quantidade de neurônios por camadas\n",
    "        self.neurons = neurons\n",
    "        \n",
    "        \n",
    "    def sigmoid(self, valor):\n",
    "        '''Calcula a sigmoid de um valor'''\n",
    "        return (1/(1+math.e**(-valor)))\n",
    "\n",
    "    def sigmoid_deriv(self, valor):\n",
    "        '''Calcula a derivada da função sigmoid'''\n",
    "        sig = self.sigmoid(valor)\n",
    "        return sig*(1 - sig)\n",
    "\n",
    "    def activate(self, valor):\n",
    "        '''Ativa as saídas do neurônio'''\n",
    "        return self.sigmoid(valor)\n",
    "    \n",
    "    def deriv(self, valor):\n",
    "        '''Calcular a derivada da função de ativação'''\n",
    "        return self.sigmoid_deriv(valor)\n",
    "\n",
    "    def evaluate(self, target, predicted):\n",
    "        '''Calcula a diferença entre o valor real e o valor predito'''\n",
    "        return (target - predicted)\n",
    "\n",
    "    def predict(self, input_data, weights):\n",
    "        '''Calcula a soma ponderada das entradas pelo peso'''\n",
    "        return np.dot(input_data, weights).reshape(1, -1)\n",
    "    \n",
    "    \n",
    "    def train(self, x, d):\n",
    "        ''' \n",
    "        Definir aleatoriamente os pesos, o bias e o peso do bias\n",
    "        Enquanto a diferença entre m mse_anterior e o mse_atual for maior que 'e' continua o processo \n",
    "        '''\n",
    "        self.w1 = np.random.random((x.shape[1]+1,self.neurons[0]))\n",
    "        self.w2 = np.random.random((self.neurons[0], self.neurons[1]))\n",
    "        self.w3 = np.random.random((self.neurons[1], self.neurons[2]))\n",
    "        \n",
    "        epoch = 0\n",
    "        last_mse = np.inf\n",
    "        self.total_mse = []\n",
    "        self.bias = -1\n",
    "        \n",
    "        while True:\n",
    "            mse = 0\n",
    "            for xi, target in zip(x,d):\n",
    "                input_value = np.insert(xi, 0, self.bias)\n",
    "                i1 = self.predict(input_value, self.w1)\n",
    "                y1 = self.activate(i1)\n",
    "                i2 = self.predict(y1, self.w2)\n",
    "                y2 = self.activate(i2)\n",
    "                i3 = self.predict(y2, self.w3)\n",
    "                y3 = self.activate(i3)\n",
    "                current_error = self.evaluate(target, y3)\n",
    "                mse+=(current_error ** 2)\n",
    "\n",
    "                delta3 = (target - y3) * self.deriv(i3)\n",
    "                self.w3 += self.lr * np.dot(y2.T, delta3)\n",
    "\n",
    "                delta2 = np.dot(delta3, self.w3.T) * self.deriv(i2)\n",
    "                self.w2 += self.lr * np.dot(y1.T, delta2)\n",
    "\n",
    "                delta1 = np.dot(delta2, self.w2.T) * self.deriv(i1)\n",
    "                self.w1 += self.lr * np.dot(input_value.reshape(1, -1).T, delta1)\n",
    "\n",
    "            mse = sum(mse[0]) / len(x)\n",
    "            \n",
    "            print(f\"EPOCH: {epoch} - MSE: {mse} - |mse_ant - mse|: {abs(last_mse - mse)}\")\n",
    "            if abs(last_mse - mse) <= self.e:\n",
    "                break\n",
    "            \n",
    "            self.total_mse.append(mse)\n",
    "            last_mse = mse\n",
    "            epoch += 1\n",
    "            \n",
    "            \n",
    "    def test(self, x):\n",
    "        ''' Dado uma lista de X, submete-os à rede'''\n",
    "        results = []\n",
    "        for xi in x:\n",
    "            input_value = np.insert(xi, 0, self.bias)\n",
    "            i1 = self.predict(input_value, self.w1)\n",
    "            y1 = self.activate(i1)\n",
    "            i2 = self.predict(y1, self.w2)\n",
    "            y2 = self.activate(i2)\n",
    "            i3 = self.predict(y2, self.w3)\n",
    "            y3 = self.activate(i3)\n",
    "            \n",
    "            results.append(y3[0])\n",
    "            \n",
    "        return results\n",
    "    "
   ]
  },
  {
   "cell_type": "markdown",
   "metadata": {},
   "source": [
    "\n",
    "#### Exercício 1\n",
    "\n",
    "Use a rede Neural do Perceptron de Multicamadas para classificar os 3 tipos de flores do iris Dataset:\n",
    "\n",
    "    0 = 'setosa'\n",
    "    1 = 'versicolor'\n",
    "    2 = 'virginica'\n",
    "\n",
    "Dica: Deve haver 3 neurônios de Saída por causa das 3 saídas de neurônio. Lembre-se de organizar a saída esperada dos dados para para uma lista com índice 3.\n"
   ]
  },
  {
   "cell_type": "markdown",
   "metadata": {},
   "source": [
    "#### Leia o Dataset e separe os dados de teste dos de treino\n",
    "\n",
    "Pode deixar em 80% para treino"
   ]
  },
  {
   "cell_type": "code",
   "execution_count": null,
   "metadata": {},
   "outputs": [],
   "source": []
  },
  {
   "cell_type": "markdown",
   "metadata": {},
   "source": [
    "#### Mapeie as saídas"
   ]
  },
  {
   "cell_type": "code",
   "execution_count": null,
   "metadata": {},
   "outputs": [],
   "source": []
  },
  {
   "cell_type": "markdown",
   "metadata": {},
   "source": [
    "#### Treine a Rede, teste e depois compare com o resultado de um valor de teste\n",
    "\n",
    "(Comparar x_teste com D_teste)"
   ]
  },
  {
   "cell_type": "code",
   "execution_count": null,
   "metadata": {},
   "outputs": [],
   "source": []
  },
  {
   "cell_type": "markdown",
   "metadata": {},
   "source": [
    "#### Exercício 2\n",
    "\n",
    "Faça o mesmo com o Dataset de Vinhos Wine Dataset\n",
    "\n",
    "    Target = 'Wine'\n",
    "\n"
   ]
  },
  {
   "cell_type": "markdown",
   "metadata": {},
   "source": [
    "#### Leia o Dataset e separe os dados de teste dos de treino\n",
    "\n",
    "Pode deixar em 80% para treino"
   ]
  },
  {
   "cell_type": "code",
   "execution_count": null,
   "metadata": {},
   "outputs": [],
   "source": []
  },
  {
   "cell_type": "markdown",
   "metadata": {},
   "source": [
    "#### Mapeie as saídas"
   ]
  },
  {
   "cell_type": "code",
   "execution_count": null,
   "metadata": {},
   "outputs": [],
   "source": []
  },
  {
   "cell_type": "markdown",
   "metadata": {},
   "source": [
    "#### Treine a Rede, teste e depois compare com o resultado de um valor de teste\n",
    "\n",
    "(Comparar x_teste com D_teste)"
   ]
  },
  {
   "cell_type": "code",
   "execution_count": null,
   "metadata": {},
   "outputs": [],
   "source": []
  }
 ],
 "metadata": {
  "language_info": {
   "name": "python"
  }
 },
 "nbformat": 4,
 "nbformat_minor": 2
}
